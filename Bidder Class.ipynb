{
 "cells": [
  {
   "cell_type": "markdown",
   "id": "2813ec8e",
   "metadata": {},
   "source": [
    "# Bidder class"
   ]
  },
  {
   "cell_type": "markdown",
   "id": "c4072f3b",
   "metadata": {},
   "source": [
    "Maybe leave the updating of the balances up to the Auction class"
   ]
  },
  {
   "cell_type": "code",
   "execution_count": 4,
   "id": "b3e3a884",
   "metadata": {},
   "outputs": [],
   "source": [
    "import numpy as np"
   ]
  },
  {
   "cell_type": "code",
   "execution_count": 5,
   "id": "8c9e5fc7",
   "metadata": {},
   "outputs": [],
   "source": [
    "class Bidder():\n",
    "    \"\"\"This class creates bidders equipped with knowledge of the number of users in the auction and the number \n",
    "    of auction rounds to be played\"\"\"\n",
    "    \n",
    "    def __init__(self, num_users, num_rounds):\n",
    "        # each user has a list associated with their user_id: first entry is num_clicks, second is num_ads_shown,\n",
    "        # third is the quotient of the two representing the best estimate of their clicking likelihood\n",
    "        self.prob_estimates = {i:[0,0,0] for i in range(num_users)}\n",
    "        self.prices_by_user = {i:[] for i in range(num_users)}\n",
    "        self.current_user = 0\n",
    "    \n",
    "    def bid(self, user_id):\n",
    "        \"\"\"Returns a non-negative amount of money. If you don't wish to bid anything on a given user, this should \n",
    "        return 0.\n",
    "        This is where at least some of the main logic will need to go. Maybe not the core explore/exploit strategy, \n",
    "        but at least the consequence of that strategy.\"\"\"\n",
    "        # going to start by creating a stupid bidder that has no concept of explore/exploit strategy\n",
    "        # this bidder will not consider the relative probabilities of different users choosing to click\n",
    "        self.current_user = user_id\n",
    "        \n",
    "        return np.random.uniform()\n",
    "\n",
    "    \n",
    "    def notify(self, auction_winner, price, clicked=None):\n",
    "        \"\"\"Used to send info about what happened in a round back to the bidder. auction_winner will be a boolean:\n",
    "        True if the bidder won a given round, False otherwise. price will be the amount of the second bid, only the\n",
    "        winner pays this. clicked will only take on a value if auction_winner is True (if the bidder won that given\n",
    "        round) in which case it will take on a boolean value: True if the user clicked on the ad and False \n",
    "        otherwise\"\"\"\n",
    "        if auction_winner:        # If the bidder won the auction\n",
    "            if clicked:           # Additionally, if the user clicked\n",
    "                # update the prob_estimates dictionary for the current user\n",
    "                self.prob_estimates[self.current_user][0] += 1\n",
    "                self.prob_estimates[self.current_user][1] += 1\n",
    "                self.prob_estimates[self.current_user][2] = self.prob_estimates[self.current_user][0] / self.prob_estimates[self.current_user][1]\n",
    "            else:  # if the user didn't click\n",
    "                # update the prob_estimates dictionary for the current user\n",
    "                self.prob_estimates[self.current_user][1] += 1\n",
    "                self.prob_estimates[self.current_user][2] = self.prob_estimates[self.current_user][0] / self.prob_estimates[self.current_user][1]\n",
    "        # record the winning price and attach it to the appropriate user for each round, what do OTHER people think that user is worth?\n",
    "        self.prices_by_user[self.current_user].append(price)\n",
    "                \n",
    "    \n",
    "    "
   ]
  },
  {
   "cell_type": "code",
   "execution_count": 19,
   "id": "4d5be6b9",
   "metadata": {},
   "outputs": [],
   "source": [
    "# create a bidder in an auction with 5 users and 3 rounds\n",
    "\n",
    "bidder1 = Bidder(5, 3) "
   ]
  },
  {
   "cell_type": "markdown",
   "id": "5222ca39",
   "metadata": {},
   "source": [
    "Let's take a look at the instance attributes as they are upon creation"
   ]
  },
  {
   "cell_type": "code",
   "execution_count": 20,
   "id": "2f8c873d",
   "metadata": {},
   "outputs": [
    {
     "name": "stdout",
     "output_type": "stream",
     "text": [
      "Balance of bidder1: 0\n",
      "bidder1's understanding of the clicking likelihoods of the users: \n",
      " {0: [0, 0, 0], 1: [0, 0, 0], 2: [0, 0, 0], 3: [0, 0, 0], 4: [0, 0, 0]}\n",
      "Default beginner user: 0\n"
     ]
    }
   ],
   "source": [
    "# {balance} and {prob_estimates} attributes\n",
    "\n",
    "print(\"Balance of bidder1:\", bidder1.balance)\n",
    "print(\"bidder1's understanding of the clicking likelihoods of the users: \\n\", bidder1.prob_estimates)\n",
    "print(\"Default beginner user:\", bidder1.current_user)"
   ]
  },
  {
   "cell_type": "code",
   "execution_count": 21,
   "id": "77fedb13",
   "metadata": {},
   "outputs": [
    {
     "data": {
      "text/plain": [
       "0.6580197531535115"
      ]
     },
     "execution_count": 21,
     "metadata": {},
     "output_type": "execute_result"
    }
   ],
   "source": [
    "# let's call .bid(), this should only change the current_user attribute and also it should return 0.5\n",
    "\n",
    "bidder1.bid(3)"
   ]
  },
  {
   "cell_type": "code",
   "execution_count": 22,
   "id": "6cf83942",
   "metadata": {},
   "outputs": [
    {
     "data": {
      "text/plain": [
       "3"
      ]
     },
     "execution_count": 22,
     "metadata": {},
     "output_type": "execute_result"
    }
   ],
   "source": [
    "# confirm that current_user attribute is now the same as the argument passed to the .bid() method\n",
    "\n",
    "bidder1.current_user"
   ]
  },
  {
   "cell_type": "code",
   "execution_count": 23,
   "id": "d8bcad78",
   "metadata": {},
   "outputs": [],
   "source": [
    "# now call the .notify() method on bidder1 to let them know whether their bid and possibly subsequent ad was/were \n",
    "# successful\n",
    "\n",
    "bidder1.notify(True, 0.60, True)"
   ]
  },
  {
   "cell_type": "code",
   "execution_count": 24,
   "id": "c7e7d13a",
   "metadata": {},
   "outputs": [
    {
     "name": "stdout",
     "output_type": "stream",
     "text": [
      "Balance of bidder1: 0.4\n",
      "bidder1's understanding of the clicking likelihoods of the users: \n",
      " {0: [0, 0, 0], 1: [0, 0, 0], 2: [0, 0, 0], 3: [1, 1, 1.0], 4: [0, 0, 0]}\n",
      "Default beginner user: 3\n"
     ]
    }
   ],
   "source": [
    "# now check to confirm that the relevant attributes have been updated\n",
    "\n",
    "print(\"Balance of bidder1:\", bidder1.balance)\n",
    "print(\"bidder1's understanding of the clicking likelihoods of the users: \\n\", bidder1.prob_estimates)\n",
    "print(\"Default beginner user:\", bidder1.current_user)"
   ]
  },
  {
   "cell_type": "code",
   "execution_count": null,
   "id": "944432ca",
   "metadata": {},
   "outputs": [],
   "source": []
  },
  {
   "cell_type": "code",
   "execution_count": null,
   "id": "393fc5b3",
   "metadata": {},
   "outputs": [],
   "source": []
  },
  {
   "cell_type": "markdown",
   "id": "b3abc1b5",
   "metadata": {},
   "source": [
    "Awesome!! At this point we have a very simple bidder. It is simple because it only bids 50 cents every time. However, it does have a way to keep track of how much money it has and the relative clicking likelihoods of all the users in the game. Those will be critical for building an intelligent bidding strategy."
   ]
  },
  {
   "cell_type": "code",
   "execution_count": null,
   "id": "d355a29f",
   "metadata": {},
   "outputs": [],
   "source": []
  },
  {
   "cell_type": "code",
   "execution_count": null,
   "id": "29c94de8",
   "metadata": {},
   "outputs": [],
   "source": []
  },
  {
   "cell_type": "code",
   "execution_count": null,
   "id": "c33fec2f",
   "metadata": {},
   "outputs": [],
   "source": []
  }
 ],
 "metadata": {
  "kernelspec": {
   "display_name": "Python 3 (ipykernel)",
   "language": "python",
   "name": "python3"
  },
  "language_info": {
   "codemirror_mode": {
    "name": "ipython",
    "version": 3
   },
   "file_extension": ".py",
   "mimetype": "text/x-python",
   "name": "python",
   "nbconvert_exporter": "python",
   "pygments_lexer": "ipython3",
   "version": "3.11.5"
  }
 },
 "nbformat": 4,
 "nbformat_minor": 5
}
