{
 "cells": [
  {
   "cell_type": "markdown",
   "id": "65e816a0",
   "metadata": {},
   "source": [
    "# Auction class"
   ]
  },
  {
   "cell_type": "code",
   "execution_count": 55,
   "id": "5524d2ed",
   "metadata": {},
   "outputs": [],
   "source": [
    "import numpy as np\n",
    "import matplotlib.pyplot as plt"
   ]
  },
  {
   "cell_type": "code",
   "execution_count": 2,
   "id": "254c3d90",
   "metadata": {},
   "outputs": [],
   "source": [
    "# class Auction():\n",
    "#     \"\"\"This class creates Auction objects. So a given auction object will have info on the number of bidders\n",
    "#     and the number of users in the game. You can call the .execute_rounds() method as many times as you want rounds  \n",
    "#     in your auction\"\"\"\n",
    "    \n",
    "#     def __init__(self, users, bidders):\n",
    "#         # I need to add a .balance instance attribute to the Bidder class\n",
    "#         self.balances = {bidder:bidder.balance for bidder in bidders} \n",
    "#         self.bidders = bidders\n",
    "#         self.users = users\n",
    "    \n",
    "#     def execute_round(self):\n",
    "#         \"\"\"This should execute all the steps within a single round of the game\"\"\"\n",
    "        \n",
    "#         user = np.random.randint(0, len(self.users)) # choose a user at random\n",
    "        \n",
    "#         bids = {}\n",
    "#         # call bid for each bidder using the id of the chosen user\n",
    "#         for bidder in self.bidders:\n",
    "#             bid = bidder.bid(user)\n",
    "#             bids[bidder] = bid\n",
    "        \n",
    "#         # loop through the bids dictionary to figure out the winning_bidder and the second_highest_bid\n",
    "#         max_bid = 0            # only for the purpose of determining winning_bidder\n",
    "#         second_highest_bid = 0 # starts at zero\n",
    "#         for bidder,bid in bids.items():\n",
    "#             if bid > max_bid:\n",
    "#                 max_bid = bid\n",
    "#                 winning_bidder = bidder     # set/update winning bidder\n",
    "#             elif bid > second_highest_bid:\n",
    "#                 second_highest_bid = bid    # update second_highest price\n",
    "        \n",
    "#         # show the ad to the user\n",
    "#         ad_outcome = self.users[user].show_ad()\n",
    "        \n",
    "#         # loop through the bidders to notify each of them of the outcome of the auction round\n",
    "#         for bidder in self.bidders:\n",
    "#             # the winner also gets to find out the result of showing the add to the user\n",
    "#             if bidder == winning_bidder:\n",
    "#                 bidder.notify(True, second_highest_bid, ad_outcome) \n",
    "#             else:\n",
    "#                 bidder.notify(False, second_highest_bid)\n",
    "                \n",
    "                \n",
    "            \n",
    "        \n",
    "    \n",
    "#     # optional\n",
    "#     def plot_history(self):\n",
    "#         \"\"\"Create a visual representation of how the auction has proceeded\"\"\"\n",
    "#         pass\n",
    "    "
   ]
  },
  {
   "cell_type": "code",
   "execution_count": null,
   "id": "93540f5f",
   "metadata": {},
   "outputs": [],
   "source": []
  },
  {
   "cell_type": "code",
   "execution_count": null,
   "id": "91dbdc7f",
   "metadata": {},
   "outputs": [],
   "source": [
    "class Auction():\n",
    "    \"\"\"This class creates Auction objects. So a given auction object will have info on the number of bidders\n",
    "    and the number of users in the game. You can call the .execute_rounds() method as many times as you want rounds  \n",
    "    in your auction\"\"\"\n",
    "    \n",
    "    def __init__(self, users, bidders):\n",
    "        self.bidders = bidders\n",
    "        self.users = users\n",
    "        self.balances = {bidder:0 for bidder in self.bidders} # finances will be completely handled in Auction class\n",
    "        self.winning_prices = []\n",
    "        self.wins_by_bidder = {bidder:0 for bidder in self.bidders} # keep track of how many wins each bidder has\n",
    "        self.bids_by_user = {i:[0,0] for i in len(users)} # keep track of the average of EVERY bid by user\n",
    "        self.winning_price_by_user = {i:[0,0]}            # keep track of the average of WINNING PRICE by user\n",
    "        self.num_rounds = 0\n",
    "        self.balances_by_round = {bidder:[0] for bidder in self.bidders}\n",
    "    \n",
    "    def execute_round(self):\n",
    "        \"\"\"This should execute all the steps within a single round of the game\"\"\"\n",
    "        \n",
    "        # choose a user at random\n",
    "        user = np.random.randint(0, len(self.users)) \n",
    "        \n",
    "        bids = {} # store the bids in a dictionary --> bidder is the key, their bid is the value\n",
    "        # call bid for each bidder using the id of the chosen user\n",
    "        for bidder in self.bidders:\n",
    "            bid = bidder.bid(user)\n",
    "            bids[bidder] = bid\n",
    "        \n",
    "        # loop through the bids dictionary to figure out the winning_bidder and the second_highest_bid\n",
    "        max_bid = 0            # only for the purpose of determining winning_bidder\n",
    "        second_highest_bid = 0 # starts at zero\n",
    "        for bidder,bid in bids.items():\n",
    "            if bid > max_bid:\n",
    "                second_highest_bid = max_bid\n",
    "                max_bid = bid\n",
    "                winning_bidder = bidder     # set/update winning bidder\n",
    "            elif bid > second_highest_bid:\n",
    "                second_highest_bid = bid    # update second_highest price\n",
    "            \n",
    "        # show the ad to the user\n",
    "        ad_outcome = self.users[user].show_ad()\n",
    "        \n",
    "        # loop through the bidders to notify each of them of the outcome of the auction round\n",
    "        # also adjust their balances accordingly\n",
    "        for bidder in self.bidders:\n",
    "            # the winner also gets to find out the result of showing the add to the user\n",
    "            if bidder == winning_bidder:\n",
    "                bidder.notify(True, second_highest_bid, ad_outcome) \n",
    "                bidder.balances -= second_highest_bid\n",
    "                if ad_outcome:\n",
    "                    bidder.balances += 1\n",
    "                self.wins_by_bidder[bidder] += 1 # just for diagnostics, not crucial\n",
    "            else:\n",
    "                bidder.notify(False, second_highest_bid)\n",
    "        \n",
    "        # following four blocks are just for diagnostics, not crucial\n",
    "        bids_mean = np.mean([bid for bid in bids.values]) # take the average of the bids for this round\n",
    "        # and update the instance attribute bids_by_user to update the average bid for them\n",
    "        self.bids_by_user[user][0] = (self.bids_by_user[user][0] + bids_mean)/(self.bids_by_user[1] + 1)\n",
    "        self.bids_by_user[user][1] += 1 # increment the number of rounds that they've been selected by 1\n",
    "        \n",
    "        # update the average of the winning prices for each user\n",
    "        self.winning_price_by_bidder[user][0] = (self.winning_price_by_user[user][0] + second_highest_bid)/(self.winning_price_by_user[user][1] + 1)\n",
    "        self.winning_price_by_user[user][1] += 1 # increment the number of rounds they've been selected by 1\n",
    "        \n",
    "        # update balances by round to see the history of the bidders balances over the course of the game\n",
    "        for bidder in self.bidders: \n",
    "            self.balances_by_round[bidder].append(self.balances[bidder])\n",
    "        \n",
    "        # update num_rounds\n",
    "        self.num_rounds += 1\n",
    "                \n",
    "                \n",
    "    # optional\n",
    "    def plot_history(self, info_type=\"balance_history\"):\n",
    "        \"\"\"Create a visual representation of how the auction has proceeded. \n",
    "        info_type parameter determines what type of graph you are shown. Options are:\n",
    "        balance_history\n",
    "        wins_by_bidder\n",
    "        winning_prices\n",
    "        bids_by_user\n",
    "        winning_price_by_user\n",
    "        \"\"\"\n",
    "        \n",
    "        if info_type == \"balance_history\":\n",
    "            x = np.arange(self.num_rounds)\n",
    "            # create several lists, each representing the history of each bidder's balance over the course of the game\n",
    "            y = [[balance for balance in self.balances_by_round[bidder]] for bidder in self.bidders]\n",
    "            for bidder in y:\n",
    "                plt.plot(x,bidder)\n",
    "            plt.legend([\"bidder\" + str(i) for i in range(len(y))])\n",
    "            plt.xlabel(\"round\")\n",
    "            plt.ylabel(\"balance\")\n",
    "            plt.title(\"history of balances by user over the rounds\")\n",
    "            plt.show()\n",
    "        \n",
    "        elif info_type == \"wins_by_bidder\":\n",
    "            x = [\"bidder\" + str(i) for i in len(self.bidders)]\n",
    "            num_wins = [self.wins_by_bidder[bidder] for bidder in self.bidders]\n",
    "            plt.bar(x, num_wins)\n",
    "            plt.xlabel(\"bidder\")\n",
    "            plt.ylabel(\"wins\")\n",
    "            plt.title(\"Number of wins by bidder\")\n",
    "            plt.show()\n",
    "            \n",
    "        elif info_type == \"winning_prices\":\n",
    "            x = np.arange(self.num_rounds)\n",
    "            y = [winning_price for winning_price in self.winning_prices]\n",
    "            plt.scatter(x,y)\n",
    "            plt.xlabel(\"round number\")\n",
    "            plt.ylabel(\"price\")\n",
    "            plt.title(\"winning prices by rounds\")\n",
    "            plt.show()\n",
    "            \n",
    "        elif info_type == \"bids_by_user\":\n",
    "            x = np.arange(len(self.users))\n",
    "            y = [pair[0] for pair in self.bids_by_user.values()]\n",
    "            plt.bar(x,y)\n",
    "            plt.xlabel(\"user_id\")\n",
    "            plt.ylabel(\"bid amount\")\n",
    "            plt.title(\"average bid amount for each user\")\n",
    "            plt.show()\n",
    "            \n",
    "        elif info_type == \"winning_price_by_user\":\n",
    "            x = np.arange(len(self.users))\n",
    "            y = [pair[0] for pair in self.winning_price_by_user.values()]\n",
    "            plt.bar(x,y)\n",
    "            plt.xlabel(\"user_id\")\n",
    "            plt.ylabel(\"bid amount\")\n",
    "            plt.title(\"average of the winning bids in each round by user\")\n",
    "            plt.show()\n",
    "        \n",
    "    \n",
    "    "
   ]
  },
  {
   "cell_type": "code",
   "execution_count": null,
   "id": "7169d9b6",
   "metadata": {},
   "outputs": [],
   "source": []
  },
  {
   "cell_type": "code",
   "execution_count": 89,
   "id": "729bcb4b",
   "metadata": {},
   "outputs": [
    {
     "data": {
      "image/png": "[encoded data removed]",
      "text/plain": [
       "<Figure size 432x288 with 1 Axes>"
      ]
     },
     "metadata": {
      "needs_background": "light"
     },
     "output_type": "display_data"
    }
   ],
   "source": [
    "a = [5, 4, 7]\n",
    "b = [\"mike\", \"jim\", \"pam\"]\n",
    "\n",
    "plt.bar(b, a, color=[\"blue\", \"red\", \"green\"])\n",
    "plt.xlabel(\"person\")\n",
    "plt.ylabel(\"sales\")\n",
    "plt.show()"
   ]
  },
  {
   "cell_type": "code",
   "execution_count": null,
   "id": "9510fe35",
   "metadata": {},
   "outputs": [],
   "source": []
  },
  {
   "cell_type": "code",
   "execution_count": 79,
   "id": "5a6a3680",
   "metadata": {},
   "outputs": [],
   "source": [
    "x = np.arange(0, 13)\n",
    "y = [i**2 for i in x]\n",
    "z = [i**3 for i in x]\n",
    "w = [2**i for i in x]"
   ]
  },
  {
   "cell_type": "code",
   "execution_count": 80,
   "id": "820924ad",
   "metadata": {},
   "outputs": [
    {
     "data": {
      "text/plain": [
       "<matplotlib.legend.Legend at 0x7f7fc1e3c910>"
      ]
     },
     "execution_count": 80,
     "metadata": {},
     "output_type": "execute_result"
    },
    {
     "data": {
      "image/png": "[encoded data removed]",
      "text/plain": [
       "<Figure size 432x288 with 1 Axes>"
      ]
     },
     "metadata": {
      "needs_background": "light"
     },
     "output_type": "display_data"
    }
   ],
   "source": [
    "for target in [y,z,w]:\n",
    "    plt.plot(x,target)\n",
    "plt.legend([\"y\", \"z\", \"w\"])\n",
    "\n",
    "# plt.plot(x,y)\n",
    "# plt.plot(x,z)\n",
    "# plt.plot(x,w)"
   ]
  },
  {
   "cell_type": "code",
   "execution_count": null,
   "id": "7be48415",
   "metadata": {},
   "outputs": [],
   "source": []
  }
 ],
 "metadata": {
  "kernelspec": {
   "display_name": "Python 3 (ipykernel)",
   "language": "python",
   "name": "python3"
  },
  "language_info": {
   "codemirror_mode": {
    "name": "ipython",
    "version": 3
   },
   "file_extension": ".py",
   "mimetype": "text/x-python",
   "name": "python",
   "nbconvert_exporter": "python",
   "pygments_lexer": "ipython3",
   "version": "3.11.5"
  }
 },
 "nbformat": 4,
 "nbformat_minor": 5
}
