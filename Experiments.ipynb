{
 "cells": [
  {
   "cell_type": "markdown",
   "id": "2552d4c8",
   "metadata": {},
   "source": [
    "# Table of Contents <a id='top'></a> \n",
    "                                                          \n",
    "\n",
    "1. [Import Packages](#imports)<br>\n",
    "2. [Define Functions](#functions)<br> \n",
    "3. [Conduct Experiments](#experiments)<br> "
   ]
  },
  {
   "cell_type": "markdown",
   "id": "2628b56c",
   "metadata": {},
   "source": [
    "---\n",
    "## 1: Import Packages <a id='imports'></a> \n",
    "[jump to top](#top)<br>"
   ]
  },
  {
   "cell_type": "code",
   "execution_count": 1,
   "id": "a727c392",
   "metadata": {},
   "outputs": [],
   "source": [
    "# modules I created\n",
    "from bidder import Bidder\n",
    "from auction import Auction, User\n",
    "\n",
    "# outside libraries\n",
    "import pandas as pd"
   ]
  },
  {
   "cell_type": "markdown",
   "id": "51df1ff7",
   "metadata": {},
   "source": [
    "--- \n",
    "## 2: Define Functions <a id='functions'></a> \n",
    "[jump to top](#top)<br>"
   ]
  },
  {
   "cell_type": "code",
   "execution_count": 2,
   "id": "9166f033",
   "metadata": {},
   "outputs": [],
   "source": [
    "def run_experiment(auction):\n",
    "    for i in range(auction.bidders[0].num_rounds):\n",
    "        auction.execute_round()"
   ]
  },
  {
   "cell_type": "code",
   "execution_count": 3,
   "id": "1629d499",
   "metadata": {},
   "outputs": [],
   "source": [
    "def overview(auction):\n",
    "    \"\"\"Given a completed auction (an auction object for which .execute() has been repeatedly called),\n",
    "    summarize the attributes of the bidders involved and indicate the final balance of each bidder\"\"\"\n",
    "    \n",
    "    dicty = {\"bidder_id\": [],\n",
    "             \"bidder_type\": [],\n",
    "             \"alpha\": [],\n",
    "             \"aggressiveness\": [],\n",
    "             \"under_cut\": [],\n",
    "             \"num_users\": [],\n",
    "             \"final_balance\": []}\n",
    "\n",
    "    for bidder in auction.bidders:\n",
    "        dicty[\"bidder_id\"].append(bidder)\n",
    "        dicty[\"bidder_type\"].append(bidder.bidder_type)\n",
    "        if bidder.bidder_type == \"smart\":\n",
    "            dicty[\"alpha\"].append(bidder.alpha)\n",
    "            dicty[\"aggressiveness\"].append(bidder.aggressiveness)\n",
    "            dicty[\"under_cut\"].append(bidder.under_cut)\n",
    "        else:\n",
    "            dicty[\"alpha\"].append(\"NA\")\n",
    "            dicty[\"aggressiveness\"].append(\"NA\")\n",
    "            dicty[\"under_cut\"].append(\"NA\")\n",
    "        dicty[\"num_users\"].append(len(auction.users))\n",
    "        dicty[\"final_balance\"].append(auction.balances[bidder])\n",
    "\n",
    "    summary_df = pd.DataFrame(dicty)\n",
    "    \n",
    "    return summary_df"
   ]
  },
  {
   "cell_type": "markdown",
   "id": "971d1a51",
   "metadata": {},
   "source": [
    "--- \n",
    "## 3: Conduct Experiments <a id='experiments'></a> \n",
    "[jump to top](#top)<br>"
   ]
  },
  {
   "cell_type": "markdown",
   "id": "765b6a34",
   "metadata": {},
   "source": [
    "### Sample Experiment"
   ]
  },
  {
   "cell_type": "code",
   "execution_count": 7,
   "id": "a678ac74",
   "metadata": {},
   "outputs": [],
   "source": [
    "users = [User() for i in range(10)]\n",
    "bidders = [Bidder(num_users=10, num_rounds=1000, bidder_type=\"zero\"),\n",
    "          Bidder(num_users=10, num_rounds=1000, bidder_type=\"smart\", alpha=0.1, aggressiveness=0.85, under_cut=0),\n",
    "          Bidder(num_users=10, num_rounds=1000, bidder_type=\"smart\", alpha=0.2, aggressiveness=0.85, under_cut=0),\n",
    "          Bidder(num_users=10, num_rounds=1000, bidder_type=\"random\")]\n",
    "\n",
    "auction = Auction(users, bidders)\n",
    "\n",
    "run_experiment(auction)"
   ]
  },
  {
   "cell_type": "code",
   "execution_count": 8,
   "id": "33428dbc",
   "metadata": {},
   "outputs": [
    {
     "data": {
      "text/html": [
       "<div>\n",
       "<style scoped>\n",
       "    .dataframe tbody tr th:only-of-type {\n",
       "        vertical-align: middle;\n",
       "    }\n",
       "\n",
       "    .dataframe tbody tr th {\n",
       "        vertical-align: top;\n",
       "    }\n",
       "\n",
       "    .dataframe thead th {\n",
       "        text-align: right;\n",
       "    }\n",
       "</style>\n",
       "<table border=\"1\" class=\"dataframe\">\n",
       "  <thead>\n",
       "    <tr style=\"text-align: right;\">\n",
       "      <th></th>\n",
       "      <th>bidder_id</th>\n",
       "      <th>bidder_type</th>\n",
       "      <th>alpha</th>\n",
       "      <th>aggressiveness</th>\n",
       "      <th>under_cut</th>\n",
       "      <th>num_users</th>\n",
       "      <th>final_balance</th>\n",
       "    </tr>\n",
       "  </thead>\n",
       "  <tbody>\n",
       "    <tr>\n",
       "      <th>0</th>\n",
       "      <td>&lt;bidder.Bidder object at 0x10f669010&gt;</td>\n",
       "      <td>zero</td>\n",
       "      <td>NA</td>\n",
       "      <td>NA</td>\n",
       "      <td>NA</td>\n",
       "      <td>10</td>\n",
       "      <td>0.000000</td>\n",
       "    </tr>\n",
       "    <tr>\n",
       "      <th>1</th>\n",
       "      <td>&lt;bidder.Bidder object at 0x12c9a4810&gt;</td>\n",
       "      <td>smart</td>\n",
       "      <td>0.1</td>\n",
       "      <td>0.85</td>\n",
       "      <td>0</td>\n",
       "      <td>10</td>\n",
       "      <td>122.750679</td>\n",
       "    </tr>\n",
       "    <tr>\n",
       "      <th>2</th>\n",
       "      <td>&lt;bidder.Bidder object at 0x10fc13a90&gt;</td>\n",
       "      <td>smart</td>\n",
       "      <td>0.2</td>\n",
       "      <td>0.85</td>\n",
       "      <td>0</td>\n",
       "      <td>10</td>\n",
       "      <td>3.463214</td>\n",
       "    </tr>\n",
       "    <tr>\n",
       "      <th>3</th>\n",
       "      <td>&lt;bidder.Bidder object at 0x10fc12710&gt;</td>\n",
       "      <td>random</td>\n",
       "      <td>NA</td>\n",
       "      <td>NA</td>\n",
       "      <td>NA</td>\n",
       "      <td>10</td>\n",
       "      <td>-6.169128</td>\n",
       "    </tr>\n",
       "  </tbody>\n",
       "</table>\n",
       "</div>"
      ],
      "text/plain": [
       "                               bidder_id bidder_type alpha aggressiveness  \\\n",
       "0  <bidder.Bidder object at 0x10f669010>        zero    NA             NA   \n",
       "1  <bidder.Bidder object at 0x12c9a4810>       smart   0.1           0.85   \n",
       "2  <bidder.Bidder object at 0x10fc13a90>       smart   0.2           0.85   \n",
       "3  <bidder.Bidder object at 0x10fc12710>      random    NA             NA   \n",
       "\n",
       "  under_cut  num_users  final_balance  \n",
       "0        NA         10       0.000000  \n",
       "1         0         10     122.750679  \n",
       "2         0         10       3.463214  \n",
       "3        NA         10      -6.169128  "
      ]
     },
     "execution_count": 8,
     "metadata": {},
     "output_type": "execute_result"
    }
   ],
   "source": [
    "overview(auction)"
   ]
  },
  {
   "cell_type": "code",
   "execution_count": 9,
   "id": "c76b3570",
   "metadata": {},
   "outputs": [
    {
     "data": {
      "image/png": "[encoded data removed]",
      "text/plain": [
       "<Figure size 640x480 with 1 Axes>"
      ]
     },
     "metadata": {},
     "output_type": "display_data"
    }
   ],
   "source": [
    "auction.plot_history()"
   ]
  },
  {
   "cell_type": "code",
   "execution_count": null,
   "id": "b8295103",
   "metadata": {},
   "outputs": [],
   "source": []
  },
  {
   "cell_type": "code",
   "execution_count": null,
   "id": "a89e90f1",
   "metadata": {},
   "outputs": [],
   "source": []
  },
  {
   "cell_type": "code",
   "execution_count": null,
   "id": "ca5469ba",
   "metadata": {},
   "outputs": [],
   "source": []
  },
  {
   "cell_type": "code",
   "execution_count": null,
   "id": "6deaa6de",
   "metadata": {},
   "outputs": [],
   "source": []
  }
 ],
 "metadata": {
  "kernelspec": {
   "display_name": "Python 3 (ipykernel)",
   "language": "python",
   "name": "python3"
  },
  "language_info": {
   "codemirror_mode": {
    "name": "ipython",
    "version": 3
   },
   "file_extension": ".py",
   "mimetype": "text/x-python",
   "name": "python",
   "nbconvert_exporter": "python",
   "pygments_lexer": "ipython3",
   "version": "3.11.5"
  }
 },
 "nbformat": 4,
 "nbformat_minor": 5
}
