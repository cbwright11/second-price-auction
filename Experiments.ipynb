{
 "cells": [
  {
   "cell_type": "markdown",
   "id": "2552d4c8",
   "metadata": {},
   "source": [
    "# Table of Contents <a id='top'></a> \n",
    "                                                          \n",
    "\n",
    "1. [Import Packages](#imports)<br>\n",
    "2. [Define Functions](#functions)<br> \n",
    "3. [Conduct Experiments](#experiments)<br> "
   ]
  },
  {
   "cell_type": "markdown",
   "id": "2628b56c",
   "metadata": {},
   "source": [
    "---\n",
    "## 1: Import Packages <a id='imports'></a> \n",
    "[jump to top](#top)<br>"
   ]
  },
  {
   "cell_type": "code",
   "execution_count": 1,
   "id": "a727c392",
   "metadata": {},
   "outputs": [],
   "source": [
    "# modules I created\n",
    "from bidder import Bidder\n",
    "from auction import Auction, User\n",
    "\n",
    "# outside libraries\n",
    "import pandas as pd"
   ]
  },
  {
   "cell_type": "markdown",
   "id": "51df1ff7",
   "metadata": {},
   "source": [
    "--- \n",
    "## 2: Define Functions <a id='functions'></a> \n",
    "[jump to top](#top)<br>"
   ]
  },
  {
   "cell_type": "code",
   "execution_count": 2,
   "id": "9166f033",
   "metadata": {},
   "outputs": [],
   "source": [
    "def run_experiment(auction):\n",
    "    for i in range(auction.bidders[0].num_rounds):\n",
    "        auction.execute_round()"
   ]
  },
  {
   "cell_type": "code",
   "execution_count": 3,
   "id": "1629d499",
   "metadata": {},
   "outputs": [],
   "source": [
    "def overview(auction, game_state_id = None):\n",
    "    \"\"\"Given a completed auction (an auction object for which .execute() has been repeatedly called),\n",
    "    summarize the attributes of the bidders involved and indicate the final balance of each bidder\"\"\"\n",
    "    \n",
    "    dicty = {\"auction_id\": [],\n",
    "             \"bidder_id\": [],\n",
    "             \"bidder_type\": [],\n",
    "             \"alpha\": [],\n",
    "             \"aggressiveness\": [],\n",
    "             \"under_cut\": [],\n",
    "             \"num_users\": [],\n",
    "             \"final_balance\": []}\n",
    "\n",
    "    for bidder in auction.bidders:\n",
    "        dicty[\"auction_id\"].append(auction.auction_id)\n",
    "        dicty[\"bidder_id\"].append(bidder)\n",
    "        dicty[\"bidder_type\"].append(bidder.bidder_type)\n",
    "        if bidder.bidder_type == \"smart\":\n",
    "            dicty[\"alpha\"].append(bidder.alpha)\n",
    "            dicty[\"aggressiveness\"].append(bidder.aggressiveness)\n",
    "            dicty[\"under_cut\"].append(bidder.under_cut)\n",
    "        else:\n",
    "            dicty[\"alpha\"].append(\"NA\")\n",
    "            dicty[\"aggressiveness\"].append(\"NA\")\n",
    "            dicty[\"under_cut\"].append(\"NA\")\n",
    "        dicty[\"num_users\"].append(len(auction.users))\n",
    "        dicty[\"final_balance\"].append(auction.balances[bidder])\n",
    "\n",
    "    summary_df = pd.DataFrame(dicty)\n",
    "    \n",
    "    if game_state_id != None:\n",
    "        summary_df[\"game_state_id\"] = [game_state_id for i in range(len(summary_df))]\n",
    "        return summary_df[[\"auction_id\"] + [\"game_state_id\"] + [\"bidder_id\", \"bidder_type\", \"alpha\", \"aggressiveness\", \"under_cut\", \"num_users\", \"final_balance\"]]\n",
    "    else:\n",
    "        return summary_df\n"
   ]
  },
  {
   "cell_type": "markdown",
   "id": "971d1a51",
   "metadata": {},
   "source": [
    "--- \n",
    "## 3: Conduct Experiments <a id='experiments'></a> \n",
    "[jump to top](#top)<br>"
   ]
  },
  {
   "cell_type": "markdown",
   "id": "765b6a34",
   "metadata": {},
   "source": [
    "### Sample Experiment"
   ]
  },
  {
   "cell_type": "code",
   "execution_count": 4,
   "id": "a678ac74",
   "metadata": {},
   "outputs": [],
   "source": [
    "users = [User() for i in range(10)]\n",
    "bidders = [Bidder(num_users=10, num_rounds=1000, bidder_type=\"zero\"),\n",
    "          Bidder(num_users=10, num_rounds=1000, bidder_type=\"smart\", alpha=0.1, aggressiveness=0.85, under_cut=0),\n",
    "          Bidder(num_users=10, num_rounds=1000, bidder_type=\"smart\", alpha=0.2, aggressiveness=0.85, under_cut=0),\n",
    "          Bidder(num_users=10, num_rounds=1000, bidder_type=\"random\")]\n",
    "\n",
    "auction = Auction(users, bidders, 127)\n",
    "\n",
    "run_experiment(auction)"
   ]
  },
  {
   "cell_type": "code",
   "execution_count": 5,
   "id": "33428dbc",
   "metadata": {},
   "outputs": [
    {
     "data": {
      "text/html": [
       "<div>\n",
       "<style scoped>\n",
       "    .dataframe tbody tr th:only-of-type {\n",
       "        vertical-align: middle;\n",
       "    }\n",
       "\n",
       "    .dataframe tbody tr th {\n",
       "        vertical-align: top;\n",
       "    }\n",
       "\n",
       "    .dataframe thead th {\n",
       "        text-align: right;\n",
       "    }\n",
       "</style>\n",
       "<table border=\"1\" class=\"dataframe\">\n",
       "  <thead>\n",
       "    <tr style=\"text-align: right;\">\n",
       "      <th></th>\n",
       "      <th>auction_id</th>\n",
       "      <th>game_state_id</th>\n",
       "      <th>bidder_id</th>\n",
       "      <th>bidder_type</th>\n",
       "      <th>alpha</th>\n",
       "      <th>aggressiveness</th>\n",
       "      <th>under_cut</th>\n",
       "      <th>num_users</th>\n",
       "      <th>final_balance</th>\n",
       "    </tr>\n",
       "  </thead>\n",
       "  <tbody>\n",
       "    <tr>\n",
       "      <th>0</th>\n",
       "      <td>127</td>\n",
       "      <td>33</td>\n",
       "      <td>&lt;bidder.Bidder object at 0x118d15d50&gt;</td>\n",
       "      <td>zero</td>\n",
       "      <td>NA</td>\n",
       "      <td>NA</td>\n",
       "      <td>NA</td>\n",
       "      <td>10</td>\n",
       "      <td>0.000000</td>\n",
       "    </tr>\n",
       "    <tr>\n",
       "      <th>1</th>\n",
       "      <td>127</td>\n",
       "      <td>33</td>\n",
       "      <td>&lt;bidder.Bidder object at 0x108524310&gt;</td>\n",
       "      <td>smart</td>\n",
       "      <td>0.1</td>\n",
       "      <td>0.85</td>\n",
       "      <td>0</td>\n",
       "      <td>10</td>\n",
       "      <td>-14.933387</td>\n",
       "    </tr>\n",
       "    <tr>\n",
       "      <th>2</th>\n",
       "      <td>127</td>\n",
       "      <td>33</td>\n",
       "      <td>&lt;bidder.Bidder object at 0x10e396810&gt;</td>\n",
       "      <td>smart</td>\n",
       "      <td>0.2</td>\n",
       "      <td>0.85</td>\n",
       "      <td>0</td>\n",
       "      <td>10</td>\n",
       "      <td>0.525856</td>\n",
       "    </tr>\n",
       "    <tr>\n",
       "      <th>3</th>\n",
       "      <td>127</td>\n",
       "      <td>33</td>\n",
       "      <td>&lt;bidder.Bidder object at 0x10e394c90&gt;</td>\n",
       "      <td>random</td>\n",
       "      <td>NA</td>\n",
       "      <td>NA</td>\n",
       "      <td>NA</td>\n",
       "      <td>10</td>\n",
       "      <td>-6.227769</td>\n",
       "    </tr>\n",
       "  </tbody>\n",
       "</table>\n",
       "</div>"
      ],
      "text/plain": [
       "   auction_id  game_state_id                              bidder_id  \\\n",
       "0         127             33  <bidder.Bidder object at 0x118d15d50>   \n",
       "1         127             33  <bidder.Bidder object at 0x108524310>   \n",
       "2         127             33  <bidder.Bidder object at 0x10e396810>   \n",
       "3         127             33  <bidder.Bidder object at 0x10e394c90>   \n",
       "\n",
       "  bidder_type alpha aggressiveness under_cut  num_users  final_balance  \n",
       "0        zero    NA             NA        NA         10       0.000000  \n",
       "1       smart   0.1           0.85         0         10     -14.933387  \n",
       "2       smart   0.2           0.85         0         10       0.525856  \n",
       "3      random    NA             NA        NA         10      -6.227769  "
      ]
     },
     "execution_count": 5,
     "metadata": {},
     "output_type": "execute_result"
    }
   ],
   "source": [
    "overview(auction, game_state_id=33)"
   ]
  },
  {
   "cell_type": "code",
   "execution_count": 6,
   "id": "c76b3570",
   "metadata": {},
   "outputs": [
    {
     "data": {
      "image/png": "[encoded data removed]",
      "text/plain": [
       "<Figure size 640x480 with 1 Axes>"
      ]
     },
     "metadata": {},
     "output_type": "display_data"
    }
   ],
   "source": [
    "auction.plot_history()"
   ]
  },
  {
   "cell_type": "code",
   "execution_count": null,
   "id": "a89e90f1",
   "metadata": {},
   "outputs": [],
   "source": []
  },
  {
   "cell_type": "code",
   "execution_count": null,
   "id": "2a4dd9d3",
   "metadata": {},
   "outputs": [],
   "source": []
  },
  {
   "cell_type": "code",
   "execution_count": 20,
   "id": "b5374d31",
   "metadata": {},
   "outputs": [],
   "source": [
    "alpha_levels = [i/10 for i in range(10)]\n",
    "aggressiveness_levels = [i/20 for i in range(20)]\n",
    "under_cut_levels = [i/20 for i in range(0, 5)]"
   ]
  },
  {
   "cell_type": "code",
   "execution_count": 24,
   "id": "7eebcaeb",
   "metadata": {},
   "outputs": [
    {
     "data": {
      "text/html": [
       "<div>\n",
       "<style scoped>\n",
       "    .dataframe tbody tr th:only-of-type {\n",
       "        vertical-align: middle;\n",
       "    }\n",
       "\n",
       "    .dataframe tbody tr th {\n",
       "        vertical-align: top;\n",
       "    }\n",
       "\n",
       "    .dataframe thead th {\n",
       "        text-align: right;\n",
       "    }\n",
       "</style>\n",
       "<table border=\"1\" class=\"dataframe\">\n",
       "  <thead>\n",
       "    <tr style=\"text-align: right;\">\n",
       "      <th></th>\n",
       "      <th>bidder_id</th>\n",
       "      <th>alpha</th>\n",
       "      <th>aggressiveness</th>\n",
       "      <th>under_cut</th>\n",
       "    </tr>\n",
       "  </thead>\n",
       "  <tbody>\n",
       "    <tr>\n",
       "      <th>0</th>\n",
       "      <td>0</td>\n",
       "      <td>0.0</td>\n",
       "      <td>0.00</td>\n",
       "      <td>0.00</td>\n",
       "    </tr>\n",
       "    <tr>\n",
       "      <th>1</th>\n",
       "      <td>1</td>\n",
       "      <td>0.0</td>\n",
       "      <td>0.00</td>\n",
       "      <td>0.05</td>\n",
       "    </tr>\n",
       "    <tr>\n",
       "      <th>2</th>\n",
       "      <td>2</td>\n",
       "      <td>0.0</td>\n",
       "      <td>0.00</td>\n",
       "      <td>0.10</td>\n",
       "    </tr>\n",
       "    <tr>\n",
       "      <th>3</th>\n",
       "      <td>3</td>\n",
       "      <td>0.0</td>\n",
       "      <td>0.00</td>\n",
       "      <td>0.15</td>\n",
       "    </tr>\n",
       "    <tr>\n",
       "      <th>4</th>\n",
       "      <td>4</td>\n",
       "      <td>0.0</td>\n",
       "      <td>0.00</td>\n",
       "      <td>0.20</td>\n",
       "    </tr>\n",
       "    <tr>\n",
       "      <th>...</th>\n",
       "      <td>...</td>\n",
       "      <td>...</td>\n",
       "      <td>...</td>\n",
       "      <td>...</td>\n",
       "    </tr>\n",
       "    <tr>\n",
       "      <th>995</th>\n",
       "      <td>995</td>\n",
       "      <td>0.9</td>\n",
       "      <td>0.95</td>\n",
       "      <td>0.00</td>\n",
       "    </tr>\n",
       "    <tr>\n",
       "      <th>996</th>\n",
       "      <td>996</td>\n",
       "      <td>0.9</td>\n",
       "      <td>0.95</td>\n",
       "      <td>0.05</td>\n",
       "    </tr>\n",
       "    <tr>\n",
       "      <th>997</th>\n",
       "      <td>997</td>\n",
       "      <td>0.9</td>\n",
       "      <td>0.95</td>\n",
       "      <td>0.10</td>\n",
       "    </tr>\n",
       "    <tr>\n",
       "      <th>998</th>\n",
       "      <td>998</td>\n",
       "      <td>0.9</td>\n",
       "      <td>0.95</td>\n",
       "      <td>0.15</td>\n",
       "    </tr>\n",
       "    <tr>\n",
       "      <th>999</th>\n",
       "      <td>999</td>\n",
       "      <td>0.9</td>\n",
       "      <td>0.95</td>\n",
       "      <td>0.20</td>\n",
       "    </tr>\n",
       "  </tbody>\n",
       "</table>\n",
       "<p>1000 rows × 4 columns</p>\n",
       "</div>"
      ],
      "text/plain": [
       "     bidder_id  alpha  aggressiveness  under_cut\n",
       "0            0    0.0            0.00       0.00\n",
       "1            1    0.0            0.00       0.05\n",
       "2            2    0.0            0.00       0.10\n",
       "3            3    0.0            0.00       0.15\n",
       "4            4    0.0            0.00       0.20\n",
       "..         ...    ...             ...        ...\n",
       "995        995    0.9            0.95       0.00\n",
       "996        996    0.9            0.95       0.05\n",
       "997        997    0.9            0.95       0.10\n",
       "998        998    0.9            0.95       0.15\n",
       "999        999    0.9            0.95       0.20\n",
       "\n",
       "[1000 rows x 4 columns]"
      ]
     },
     "execution_count": 24,
     "metadata": {},
     "output_type": "execute_result"
    }
   ],
   "source": [
    "dict_bidders = {\"bidder_id\":[], \"alpha\": [], \"aggressiveness\": [], \"under_cut\": []}\n",
    "\n",
    "i = 0\n",
    "for alpha in alpha_levels:\n",
    "    for agg in aggressiveness_levels:\n",
    "        for undercut in under_cut_levels:\n",
    "            dict_bidders[\"bidder_id\"].append(i)\n",
    "            dict_bidders[\"alpha\"].append(alpha)\n",
    "            dict_bidders[\"aggressiveness\"].append(agg)\n",
    "            dict_bidders[\"under_cut\"].append(undercut)\n",
    "            i += 1\n",
    "            \n",
    "df_bidders = pd.DataFrame(dict_bidders)            \n",
    "df_bidders"
   ]
  },
  {
   "cell_type": "markdown",
   "id": "25711ad9",
   "metadata": {},
   "source": [
    "**So I want to track the performance of each of these bidders across different combinations of other bidders as well as num_users**"
   ]
  },
  {
   "cell_type": "code",
   "execution_count": null,
   "id": "7483733e",
   "metadata": {},
   "outputs": [],
   "source": []
  },
  {
   "cell_type": "code",
   "execution_count": null,
   "id": "2b8cc179",
   "metadata": {},
   "outputs": [],
   "source": []
  },
  {
   "cell_type": "code",
   "execution_count": null,
   "id": "6055a961",
   "metadata": {},
   "outputs": [],
   "source": []
  },
  {
   "cell_type": "code",
   "execution_count": 18,
   "id": "2d204640",
   "metadata": {},
   "outputs": [],
   "source": [
    "import time\n",
    "\n",
    "a = time.time()\n",
    "\n",
    "for i in range(1000):\n",
    "    run_experiment(auction)\n",
    "\n",
    "b = time.time()"
   ]
  },
  {
   "cell_type": "code",
   "execution_count": 19,
   "id": "913574f1",
   "metadata": {},
   "outputs": [
    {
     "name": "stdout",
     "output_type": "stream",
     "text": [
      "12.85 seconds\n"
     ]
    }
   ],
   "source": [
    "print(round(b-a, 2), \"seconds\")"
   ]
  },
  {
   "cell_type": "code",
   "execution_count": null,
   "id": "d20fc08e",
   "metadata": {},
   "outputs": [],
   "source": []
  },
  {
   "cell_type": "code",
   "execution_count": null,
   "id": "20012520",
   "metadata": {},
   "outputs": [],
   "source": []
  },
  {
   "cell_type": "code",
   "execution_count": null,
   "id": "4e4d6737",
   "metadata": {},
   "outputs": [],
   "source": []
  },
  {
   "cell_type": "code",
   "execution_count": null,
   "id": "ca5469ba",
   "metadata": {},
   "outputs": [],
   "source": []
  },
  {
   "cell_type": "code",
   "execution_count": null,
   "id": "6deaa6de",
   "metadata": {},
   "outputs": [],
   "source": []
  }
 ],
 "metadata": {
  "kernelspec": {
   "display_name": "Python 3 (ipykernel)",
   "language": "python",
   "name": "python3"
  },
  "language_info": {
   "codemirror_mode": {
    "name": "ipython",
    "version": 3
   },
   "file_extension": ".py",
   "mimetype": "text/x-python",
   "name": "python",
   "nbconvert_exporter": "python",
   "pygments_lexer": "ipython3",
   "version": "3.11.5"
  }
 },
 "nbformat": 4,
 "nbformat_minor": 5
}
